{
 "cells": [
  {
   "cell_type": "code",
   "execution_count": null,
   "id": "initial_id",
   "metadata": {
    "editable": true,
    "slideshow": {
     "slide_type": ""
    },
    "tags": []
   },
   "outputs": [],
   "source": [
    "# Setup\n",
    "import warnings\n",
    "import pandas as pd\n",
    "import numpy as np\n",
    "import seaborn as sns\n",
    "import matplotlib.pyplot as plt\n",
    "\n",
    "warnings.filterwarnings('ignore', category=FutureWarning)\n",
    "\n",
    "sns.set_theme(style=\"whitegrid\")\n",
    "df = pd.read_csv('diabetes_health_indicators.csv')"
   ]
  },
  {
   "cell_type": "code",
   "execution_count": 114,
   "id": "b8695672e4ef62e9",
   "metadata": {},
   "outputs": [],
   "source": [
    "# Convert all floats to ints\n",
    "for name, values in df.items():\n",
    "    if name in df.columns:\n",
    "        df[name] = pd.to_numeric(df[name], errors='coerce')\n",
    "        df[name] = df[name].astype('Int64')\n",
    "\n",
    "# Map numerical data to descriptive data\n",
    "# Create copy for cleaning\n",
    "df = df.rename(columns={'Diabetes_012': 'Diabetes_Status'})\n",
    "df_clean = df.copy()\n",
    "\n",
    "binary_map = {0: 'No', 1: 'Yes', 7: 'Not Sure', 9: 'No Response'}\n",
    "sex_map = {0: 'Female', 1: 'Male'}\n",
    "\n",
    "diabetes_map = {\n",
    "    0: 'No Diabetes',\n",
    "    1: 'Prediabetes',\n",
    "    2: 'Diabetes'\n",
    "}\n",
    "\n",
    "gen_hlth_map = {\n",
    "    1: 'Excellent',\n",
    "    2: 'Very Good',\n",
    "    3: 'Good',\n",
    "    4: 'Fair',\n",
    "    5: 'Poor',\n",
    "    7: 'Not Sure',\n",
    "    9: 'No Response'\n",
    "}\n",
    "\n",
    "education_map = {\n",
    "    1: 'Never attended school',\n",
    "    2: 'Grades 1-8',\n",
    "    3: 'Grades 9-11',\n",
    "    4: 'Grade 12/GED',\n",
    "    5: 'College 1-3 years',\n",
    "    6: 'College 4+ years',\n",
    "    9: 'No Response',\n",
    "}\n",
    "\n",
    "income_map = {\n",
    "    1: '< $10,000',\n",
    "    2: '$10,000 - $14,999',\n",
    "    3: '$15,000 - $19,999',\n",
    "    4: '$20,000 - $24,999',\n",
    "    5: '$25,000 - $34,999',\n",
    "    6: '$35,000 - $49,999',\n",
    "    7: '$50,000 - $74,999',\n",
    "    8: '>= $75,000',\n",
    "    77: 'Not Sure',\n",
    "    99: 'No Response'\n",
    "}\n",
    "\n",
    "age_map = {\n",
    "    1: '18-24', 2: '25-29', 3: '30-34', 4: '35-39', 5: '40-44',\n",
    "    6: '45-49', 7: '50-54', 8: '55-59', 9: '60-64', 10: '65-69',\n",
    "    11: '70-74', 12: '75-79', 13: '80+', 14: 'No Response'\n",
    "}\n",
    "\n",
    "\n",
    "df_clean['Diabetes_Status'] = df_clean['Diabetes_Status'].map(diabetes_map)\n",
    "\n",
    "binary_cols = [\n",
    "    'HighBP', 'HighChol', 'CholCheck', 'Smoker', 'Stroke',\n",
    "    'HeartDiseaseorAttack', 'PhysActivity', 'Fruits', 'Veggies',\n",
    "    'HvyAlcoholConsump', 'AnyHealthcare', 'NoDocbcCost', 'DiffWalk'\n",
    "]\n",
    "\n",
    "for col in binary_cols:\n",
    "    if col in df.columns:\n",
    "        df_clean[col] = df_clean[col].map(binary_map)\n",
    "\n",
    "\n",
    "df_clean['Sex'] = df_clean['Sex'].map(sex_map)\n",
    "\n",
    "scale_mappings = {\n",
    "    'GenHlth': gen_hlth_map,\n",
    "    'Education': education_map,\n",
    "    'Income': income_map,\n",
    "    'Age': age_map\n",
    "}\n",
    "\n",
    "for col, mapping in scale_mappings.items():\n",
    "    if col in df.columns:\n",
    "        df_clean[col] = df_clean[col].map(mapping)"
   ]
  },
  {
   "cell_type": "markdown",
   "id": "d7b3ba3b7c26e932",
   "metadata": {},
   "source": [
    "# Diabetes Health Indicators Analysis\n",
    "\n",
    "## Background\n",
    "\n",
    "Diabetes is a chronic health condition affecting millions of people worldwide. This project analyzes a dataset of health indicators to understand factors associated with diabetes prevalence and risk.\n",
    "\n",
    "## Problem Definition\n",
    "\n",
    "This analysis aims to:\n",
    "\n",
    "1. Identify which health indicators are most strongly associated with diabetes status\n",
    "2. Examine how demographic factors correlate with diabetes risk\n",
    "3. Explore relationships between modifiable risk factors and diabetes\n",
    "4. Suggest potential intervention points for diabetes prevention"
   ]
  },
  {
   "cell_type": "markdown",
   "id": "9ec9ecc809500e42",
   "metadata": {},
   "source": [
    "The dataset reveals a significant disparity in diabetes prevalence among the studied population. The majority of subjects, approximately 85%, have no diabetes, while only about 13% have diabetes and a mere 2% have prediabetes. This distribution highlights that while diabetes affects a minority of the population, it still represents a substantial health burden given the sample size. The stark contrast between these groups provides a strong basis for comparative analysis of risk factors and demographic patterns associated with the condition."
   ]
  },
  {
   "cell_type": "code",
   "execution_count": 112,
   "id": "ceba252c89d58424",
   "metadata": {},
   "outputs": [
    {
     "data": {
      "image/png": "[encoded data removed]",
      "text/plain": [
       "<Figure size 1800x1200 with 1 Axes>"
      ]
     },
     "metadata": {},
     "output_type": "display_data"
    }
   ],
   "source": [
    "# Create a dashboard of visualizations\n",
    "plt.figure(figsize=(18, 12))\n",
    "\n",
    "# Diabetes Status Distribution\n",
    "plt.subplot(2, 3, 1)\n",
    "sns.countplot(y='Diabetes_Status', data=df_clean, palette='viridis')\n",
    "plt.title('Distribution of Diabetes Status')\n",
    "plt.xlabel('Number of Individuals')\n",
    "plt.ylabel('Diabetes Status')\n",
    "plt.tight_layout()"
   ]
  },
  {
   "cell_type": "markdown",
   "id": "54078a53a7a32a5a",
   "metadata": {},
   "source": [
    "BMI distributions show a clear relationship with diabetes status. Individuals with diabetes and prediabetes demonstrate notably higher median BMI values, approximately 30 and 29 respectively, compared to those without diabetes at approximately 25. The density plot reveals that people without diabetes have a peak BMI distribution around 25, while those with diabetes show a broader distribution with higher concentrations in the overweight (BMI 25-30) and obese (BMI greater than 30) ranges. This visualization confirms BMI as a significant risk factor, with higher values strongly associated with diabetes diagnosis."
   ]
  },
  {
   "cell_type": "code",
   "execution_count": null,
   "id": "9495abbb38c0a232",
   "metadata": {},
   "outputs": [],
   "source": [
    "# BMI vs Diabetes Status\n",
    "sns.boxplot(x='Diabetes_Status', y='BMI', data=df_clean)\n",
    "plt.xlabel('Diabetes Status')\n",
    "plt.title('BMI by Diabetes Status')\n",
    "plt.xticks(rotation=45)\n",
    "plt.tight_layout()"
   ]
  },
  {
   "cell_type": "markdown",
   "id": "80c20ff5b52d7a4",
   "metadata": {},
   "source": [
    "Age emerges as a critical factor in diabetes prevalence, with a dramatic increase observed in older age groups. The graph below demonstrates that diabetes rates begin climbing noticeably after age 45, with the steepest increases in the 65-69, 70-74, 75-79, and 80+ age brackets. The visualization reveals that while diabetes affects less than 10% of adults under 45, this rate more than doubles to over 20% in the elderly population. This clear age-related progression suggests that screening and intervention strategies should be prioritized based on age, particularly for individuals entering middle age and beyond."
   ]
  },
  {
   "cell_type": "code",
   "execution_count": null,
   "id": "c2a5ba1e0cf5f2f",
   "metadata": {},
   "outputs": [],
   "source": [
    "# Age Distribution by Diabetes\n",
    "age_diabetes = pd.crosstab(df_clean['Age'], df_clean['Diabetes_Status'], normalize='index') * 100\n",
    "age_diabetes.plot(kind='bar', stacked=True)\n",
    "plt.title('Diabetes Status by Age Group')\n",
    "plt.xlabel('Age Group')\n",
    "plt.ylabel('Percentage')\n",
    "plt.xticks(rotation=90)\n",
    "plt.legend(title='Diabetes Status', loc='upper left', bbox_to_anchor=(1, 1))\n",
    "plt.tight_layout()"
   ]
  },
  {
   "cell_type": "markdown",
   "id": "665aad773b6885d4",
   "metadata": {},
   "source": [
    "Individuals with diabetes show substantially higher rates of coexisting conditions. Those with diabetes have markedly elevated rates of high blood pressure (73%), high cholesterol (67%), and heart disease (22%) compared to non-diabetic individuals (38%, 35%, and 7% respectively). Interestingly, prediabetic individuals also show higher rates of these conditions than the non-diabetic group, suggesting that these conditions may develop along a continuum with prediabetes representing an intermediate risk state. These patterns underscore the interconnected nature of metabolic and cardiovascular conditions, highlighting the importance of comprehensive care approaches."
   ]
  },
  {
   "cell_type": "code",
   "execution_count": null,
   "id": "f31fad928abb31e2",
   "metadata": {},
   "outputs": [],
   "source": [
    "# Health Metrics Comparison\n",
    "health_vars = ['HighBP', 'HighChol', 'HeartDiseaseorAttack', 'Stroke']\n",
    "yes_percentages = {}\n",
    "\n",
    "for var in health_vars:\n",
    "    yes_percentages[var] = pd.crosstab(df_clean['Diabetes_Status'], df_clean[var])['Yes'] / \\\n",
    "                         df_clean['Diabetes_Status'].value_counts() * 100\n",
    "\n",
    "pd.DataFrame(yes_percentages).plot(kind='bar')\n",
    "plt.title('Health Conditions by Diabetes Status')\n",
    "plt.xlabel('Diabetes Status')\n",
    "plt.ylabel('Percentage with Condition')\n",
    "plt.xticks(rotation=45)\n",
    "plt.tight_layout()"
   ]
  },
  {
   "cell_type": "markdown",
   "id": "8d7bd9f1ae576c45",
   "metadata": {},
   "source": [
    "Self-reported general health shows a striking correlation with diabetes status. The graph below reveals that individuals without diabetes most frequently report \"very good\" health (38%), while those with diabetes more commonly report only \"good\" (27%) or \"fair\" (28%) health, with very few reporting \"excellent\" health (3%). This suggests that diabetes significantly impacts perceived well-being and quality of life. Prediabetic individuals show an intermediate pattern, with health ratings falling between the other two groups, further supporting the concept of prediabetes as a transitional state in terms of both physical health and subjective well-being."
   ]
  },
  {
   "cell_type": "code",
   "execution_count": null,
   "id": "6715d5c51ab98118",
   "metadata": {},
   "outputs": [],
   "source": [
    "# General Health by Diabetes\n",
    "health_order = ['Excellent', 'Very Good', 'Good', 'Fair', 'Poor']\n",
    "gen_health = pd.crosstab(df_clean['Diabetes_Status'], df_clean['GenHlth'])\n",
    "gen_health_pct = gen_health.div(gen_health.sum(axis=1), axis=0) * 100\n",
    "\n",
    "# Select only the ordered health categories and convert to DataFrame for plotting\n",
    "gen_health_pct_ordered = gen_health_pct[health_order].reset_index()\n",
    "gen_health_pct_ordered = pd.melt(gen_health_pct_ordered, id_vars=['Diabetes_Status'],\n",
    "                                value_vars=health_order)\n",
    "\n",
    "sns.barplot(x='Diabetes_Status', y='value', hue='GenHlth', data=gen_health_pct_ordered,\n",
    "           hue_order=health_order, palette='YlOrRd')\n",
    "plt.title('General Health by Diabetes Status')\n",
    "plt.xlabel('Diabetes Status')\n",
    "plt.ylabel('Percentage')\n",
    "plt.legend(title='Health Status', loc='upper left', bbox_to_anchor=(1, 1))\n",
    "plt.tight_layout()"
   ]
  },
  {
   "cell_type": "markdown",
   "id": "d131ac0a4ca677d4",
   "metadata": {},
   "source": [
    "The analysis of lifestyle behaviors in the bar chart below reveals meaningful differences across diabetes status groups. People without diabetes show higher rates of positive health behaviors: physical activity (78%), fruit consumption (63%), and vegetable intake (81%) compared to diabetic individuals (63%, 60%, and 75% respectively). Heavy alcohol consumption is generally low across all groups but slightly higher in those without diabetes. These patterns suggest that lifestyle modifications might be both preventive for those at risk and beneficial for those already diagnosed with diabetes or prediabetes, with particular emphasis on increasing physical activity."
   ]
  },
  {
   "cell_type": "code",
   "execution_count": null,
   "id": "a5c712b576ee339e",
   "metadata": {},
   "outputs": [],
   "source": [
    "# Lifestyle Factors\n",
    "lifestyle = ['PhysActivity', 'Fruits', 'Veggies', 'HvyAlcoholConsump']\n",
    "lifestyle_yes = {}\n",
    "\n",
    "for var in lifestyle:\n",
    "    lifestyle_yes[var] = pd.crosstab(df_clean['Diabetes_Status'], df_clean[var])['Yes'] / \\\n",
    "                        df_clean['Diabetes_Status'].value_counts() * 100\n",
    "\n",
    "pd.DataFrame(lifestyle_yes).plot(kind='bar')\n",
    "plt.title('Lifestyle Factors by Diabetes Status')\n",
    "plt.xlabel('Diabetes Status')\n",
    "plt.ylabel('Percentage Answering Yes')\n",
    "plt.xticks(rotation=45)\n",
    "plt.tight_layout()\n",
    "\n",
    "plt.subplots_adjust(wspace=0.3, hspace=0.4)\n",
    "plt.tight_layout()\n",
    "plt.show()"
   ]
  },
  {
   "cell_type": "markdown",
   "id": "c7679428e97c81cd",
   "metadata": {},
   "source": [
    "The correlation matrix provides a comprehensive view of the relationships between health variables. Diabetes status shows the strongest positive correlations with general health (0.30), high blood pressure (0.27), BMI (0.22), and difficulty walking (0.22). Prior figures confirm these as the top factors associated with diabetes. Physical activity shows a negative correlation (-0.12), indicating its protective effect. This analysis reinforces the complex, interconnected nature of diabetes with various physiological, behavioral, and demographic factors, suggesting that comprehensive assessment and intervention approaches are necessary."
   ]
  },
  {
   "cell_type": "code",
   "execution_count": null,
   "id": "25b3228094003d53",
   "metadata": {},
   "outputs": [],
   "source": [
    "# Correlation analysis using original numeric data\n",
    "numeric_df = df.select_dtypes(include=['int64', 'float64'])\n",
    "corr = numeric_df.corr()\n",
    "\n",
    "# Plot correlation heatmap\n",
    "plt.figure(figsize=(14, 12))\n",
    "mask = np.triu(np.ones_like(corr, dtype=bool))\n",
    "sns.heatmap(corr, mask=mask, annot=True, fmt=\".2f\", cmap=\"coolwarm\",\n",
    "           square=True, linewidths=.5, cbar_kws={\"shrink\": .5})\n",
    "plt.title('Correlation Matrix of Health Indicators', fontsize=16)\n",
    "plt.tight_layout()\n",
    "plt.show()\n",
    "\n",
    "# Extract and plot top correlations with Diabetes_Stats\n",
    "diabetes_corr = corr['Diabetes_Status'].sort_values(ascending=False)\n",
    "plt.figure(figsize=(12, 8))\n",
    "ax = sns.barplot(x=diabetes_corr.values[1:16], y=diabetes_corr.index[1:16], palette='viridis')\n",
    "ax.set_ylabel('')  # hide y-axis label\n",
    "plt.title('Top 15 Variables Correlated with Diabetes', fontsize=14)\n",
    "plt.xlabel('Correlation Coefficient')\n",
    "plt.tight_layout()\n",
    "plt.show()"
   ]
  },
  {
   "cell_type": "markdown",
   "id": "36bdca38c2a270ba",
   "metadata": {},
   "source": [
    "The prevalence of diabetes shows minimal variation between sexes. Both females and males exhibit similar patterns with approximately 13-15% having diabetes and 1-2% having prediabetes. This suggests that biological sex alone may not be a strong independent risk factor for diabetes, though interactions between sex and other risk factors could still be clinically relevant. The comparable rates across sexes indicate that diabetes prevention and management strategies should target both men and women equally, with emphasis on risk factors that transcend sex differences."
   ]
  },
  {
   "cell_type": "code",
   "execution_count": null,
   "id": "f05ae6d21455497d",
   "metadata": {},
   "outputs": [],
   "source": [
    "# Sex and Diabetes\n",
    "plt.figure(figsize=(10, 6))\n",
    "sex_data = []\n",
    "for sex in df_clean['Sex'].unique():\n",
    "    for status in df_clean['Diabetes_Status'].unique():\n",
    "        subset = df_clean[(df_clean['Sex'] == sex)]\n",
    "        pct = (subset['Diabetes_Status'] == status).mean() * 100\n",
    "        sex_data.append({'Sex': sex, 'Diabetes_Status': status, 'Percentage': pct})\n",
    "\n",
    "sex_df = pd.DataFrame(sex_data)\n",
    "sns.barplot(x='Sex', y='Percentage', hue='Diabetes_Status', data=sex_df, palette='viridis')\n",
    "plt.title('Diabetes Status by Sex', fontsize=14)\n",
    "plt.ylabel('Percentage')\n",
    "plt.tight_layout()\n",
    "plt.show()\n"
   ]
  },
  {
   "cell_type": "markdown",
   "id": "eb5d3d19ad66f1de",
   "metadata": {},
   "source": [
    "Education level demonstrates a clear inverse relationship with diabetes prevalence. The comparison below shows that individuals with higher education levels, specifically those with college education, have significantly lower diabetes rates (10% for those with 4+ years of college) compared to those with less education (27% for those who never attended school). Similarly, higher income levels are associated with lower diabetes prevalence, with rates decreasing from 25% in the lowest income bracket to just 8% in the highest. These socioeconomic trends highlight the social determinants of health and suggest that educational initiatives and economic policies could indirectly impact diabetes prevalence by addressing these underlying disparities."
   ]
  },
  {
   "cell_type": "code",
   "execution_count": null,
   "id": "ca67b7cc0cc54f5e",
   "metadata": {},
   "outputs": [],
   "source": [
    "# Education Factors\n",
    "plt.figure(figsize=(12, 8))\n",
    "\n",
    "ax = sns.barplot(x='Education', y='Percentage', hue='Diabetes_Status',\n",
    "                 data=edu_df, palette='viridis', order=edu_order)\n",
    "\n",
    "plt.title('Diabetes Status by Education', fontsize=14)\n",
    "plt.ylabel('Percentage')\n",
    "plt.xticks(rotation=45, ha='right')\n",
    "xticks = ax.get_xticklabels()\n",
    "\n",
    "for i, lbl in enumerate(xticks):\n",
    "    offset = -0.03 if (i % 2 == 0) else -0.08\n",
    "    lbl.set_y(offset)\n",
    "\n",
    "plt.subplots_adjust(bottom=0.30)\n",
    "plt.legend(title='Diabetes Status', bbox_to_anchor=(1.02, 1), loc='upper left')\n",
    "plt.tight_layout()\n",
    "plt.show()"
   ]
  },
  {
   "cell_type": "code",
   "execution_count": null,
   "id": "dfaa320dd6a0a3c1",
   "metadata": {},
   "outputs": [],
   "source": [
    "# Income and Diabetes\n",
    "plt.figure(figsize=(12, 8))\n",
    "income_order = [v for _, v in sorted(income_map.items()) if v not in ['Not Sure', 'No Response']]\n",
    "income_data = []\n",
    "for inc in income_order:\n",
    "    if inc in df_clean['Income'].values:\n",
    "        for status in df_clean['Diabetes_Status'].unique():\n",
    "            subset = df_clean[(df_clean['Income'] == inc)]\n",
    "            if len(subset) > 0:\n",
    "                pct = (subset['Diabetes_Status'] == status).mean() * 100\n",
    "                income_data.append({'Income': inc, 'Diabetes_Status': status, 'Percentage': pct})\n",
    "\n",
    "income_df = pd.DataFrame(income_data)\n",
    "ax = sns.barplot(x='Income', y='Percentage', hue='Diabetes_Status', data=income_df, palette='viridis', order=income_order)\n",
    "plt.title('Diabetes Status by Income', fontsize=14)\n",
    "plt.ylabel('Percentage')\n",
    "plt.xticks(rotation=45, ha='right')\n",
    "\n",
    "ax.tick_params(axis='x', which='major', pad=10)\n",
    "handles, labels = ax.get_legend_handles_labels()\n",
    "ax.legend(handles=handles, labels=labels, title='Diabetes Status', bbox_to_anchor=(1.02, 1), loc='upper left')\n",
    "\n",
    "plt.subplots_adjust(bottom=0.30)\n",
    "plt.tight_layout()\n",
    "plt.show()\n"
   ]
  },
  {
   "cell_type": "code",
   "execution_count": null,
   "id": "658d21a555edb10c",
   "metadata": {},
   "outputs": [],
   "source": [
    "# BMI Distribution by Diabetes Status\n",
    "plt.figure(figsize=(12, 8))\n",
    "sns.kdeplot(data=df_clean, x='BMI', hue='Diabetes_Status', palette='viridis', fill=True)\n",
    "plt.title('BMI Distribution by Diabetes Status', fontsize=14)\n",
    "plt.xlabel('BMI')\n",
    "plt.ylabel('Density')\n",
    "plt.axvline(x=25, color='green', linestyle='--', label='Overweight Threshold')\n",
    "plt.axvline(x=30, color='red', linestyle='--', label='Obesity Threshold')\n",
    "plt.legend()\n",
    "plt.tight_layout()\n",
    "plt.show()"
   ]
  },
  {
   "cell_type": "markdown",
   "id": "dec5b43cdefcd8b8",
   "metadata": {},
   "source": [
    "The combined risk score analysis below illustrates how risk factors accumulate differently across diabetes status groups. Individuals with diabetes show significantly higher median risk scores and wider variability in their risk profiles compared to those without diabetes. This analysis suggests that diabetes is often accompanied by a constellation of risk factors rather than isolated abnormalities. The violin plot of BMI by physical activity further demonstrates how lifestyle factors interact with metabolic parameters across diabetes status groups, with physical activity associated with lower BMI distributions regardless of diabetes status."
   ]
  },
  {
   "cell_type": "code",
   "execution_count": null,
   "id": "f09568594a832155",
   "metadata": {},
   "outputs": [],
   "source": [
    "# Risk Factor Analysis\n",
    "plt.figure(figsize=(12, 8))\n",
    "risk_df = df.copy()\n",
    "risk_df['BMI_Risk'] = risk_df['BMI'].apply(lambda x: 0 if x < 25 else (1 if x < 30 else 2))\n",
    "risk_df['Total_Risk'] = risk_df['HighBP'] + risk_df['HighChol'] + risk_df['BMI_Risk']\n",
    "risk_df['Diabetes_Status'] = df_clean['Diabetes_Status']\n",
    "\n",
    "sns.boxplot(x='Diabetes_Status', y='Total_Risk', data=risk_df, palette='viridis')\n",
    "plt.title('Combined Risk Score by Diabetes Status', fontsize=16)\n",
    "plt.xlabel('Diabetes Status')\n",
    "plt.ylabel('Risk Score (Higher = More Risk Factors)')\n",
    "plt.grid(axis='y', linestyle='--', alpha=0.7)\n",
    "plt.tight_layout()\n",
    "plt.show()"
   ]
  },
  {
   "cell_type": "markdown",
   "id": "ee29bc8c2dfd927b",
   "metadata": {},
   "source": [
    "The scatter plot exploring the relationship between age, BMI, and diabetes status reveals complex interactions between these variables. While higher BMI values are more frequently associated with diabetes regardless of age, the distribution of points suggests that the BMI threshold for diabetes risk may vary across age groups. This visualization helps identify particularly vulnerable populations, specifically those with both advanced age and elevated BMI, who may benefit most from targeted screening and intervention efforts."
   ]
  },
  {
   "cell_type": "code",
   "execution_count": null,
   "id": "a0c7c950cb2c490b",
   "metadata": {},
   "outputs": [],
   "source": [
    "# BMI and Physical Activity Relationship\n",
    "plt.figure(figsize=(12, 8))\n",
    "physical_act_data = pd.DataFrame({\n",
    "    'BMI': df['BMI'],\n",
    "    'PhysActivity': df_clean['PhysActivity'],\n",
    "    'Diabetes_Status': df_clean['Diabetes_Status']\n",
    "})\n",
    "\n",
    "sns.violinplot(x='Diabetes_Status', y='BMI', hue='PhysActivity',\n",
    "              data=physical_act_data, palette='viridis', split=True)\n",
    "plt.title('BMI by Diabetes Status and Physical Activity', fontsize=16)\n",
    "plt.grid(axis='y', linestyle='--', alpha=0.3)\n",
    "plt.xlabel('Diabetes Status')\n",
    "plt.tight_layout()\n",
    "plt.show()"
   ]
  },
  {
   "cell_type": "code",
   "execution_count": null,
   "id": "57a67b29d73eb8c1",
   "metadata": {},
   "outputs": [],
   "source": [
    "# Age, BMI, and Diabetes Status\n",
    "plt.figure(figsize=(14, 8))\n",
    "age_bmi_data = pd.DataFrame({\n",
    "    'Age_Numeric': df['Age'],\n",
    "    'BMI': df['BMI'],\n",
    "    'Diabetes_Status': df_clean['Diabetes_Status']\n",
    "})\n",
    "\n",
    "sns.scatterplot(x='Age_Numeric', y='BMI', hue='Diabetes_Status',\n",
    "               data=age_bmi_data, palette='viridis', alpha=0.5)\n",
    "plt.title('Relationship Between Age, BMI, and Diabetes Status', fontsize=16)\n",
    "plt.xlabel('Age Group (Numeric)')\n",
    "plt.ylabel('BMI')\n",
    "plt.axhline(y=25, color='green', linestyle='--', label='Overweight Threshold')\n",
    "plt.axhline(y=30, color='red', linestyle='--', label='Obesity Threshold')\n",
    "plt.legend(title='Diabetes Status')\n",
    "plt.grid(True, linestyle='--', alpha=0.3)\n",
    "plt.tight_layout()\n",
    "plt.show()"
   ]
  },
  {
   "cell_type": "markdown",
   "id": "cee846918ce78833",
   "metadata": {},
   "source": [
    "# Conclusion\n",
    "\n",
    "This exploratory data analysis reveals diabetes as a complex condition with multiple interrelated risk factors spanning demographics, lifestyle behaviors, comorbidities, and socioeconomic indicators. The clear patterns observed across BMI distributions, age groups, comorbidity rates, and socioeconomic gradients provide valuable insights for developing targeted prevention strategies and personalized interventions. The analysis particularly highlights the importance of addressing modifiable factors such as physical activity and diet, while recognizing the influence of social determinants like education and income on diabetes risk. These findings can inform both clinical approaches to diabetes management and public health policies aimed at reducing diabetes burden in the population."
   ]
  }
 ],
 "metadata": {
  "kernelspec": {
   "display_name": "Python 3 (ipykernel)",
   "language": "python",
   "name": "python3"
  },
  "language_info": {
   "codemirror_mode": {
    "name": "ipython",
    "version": 3
   },
   "file_extension": ".py",
   "mimetype": "text/x-python",
   "name": "python",
   "nbconvert_exporter": "python",
   "pygments_lexer": "ipython3",
   "version": "3.11.13"
  },
  "title": "Exploratory Analysis of Diabetes Health Indicators",
  "author": "Aaliyah Harper"
 },
 "nbformat": 4,
 "nbformat_minor": 5
}
